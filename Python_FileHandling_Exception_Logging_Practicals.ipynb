{
  "cells": [
    {
      "cell_type": "markdown",
      "metadata": {
        "id": "view-in-github",
        "colab_type": "text"
      },
      "source": [
        "<a href=\"https://colab.research.google.com/github/Bhoomij123/Python/blob/main/Python_FileHandling_Exception_Logging_Practicals.ipynb\" target=\"_parent\"><img src=\"https://colab.research.google.com/assets/colab-badge.svg\" alt=\"Open In Colab\"/></a>"
      ]
    },
    {
      "cell_type": "markdown",
      "id": "db09b6e3",
      "metadata": {
        "id": "db09b6e3"
      },
      "source": [
        "### How can you open a file for writing in Python and write a string to it"
      ]
    },
    {
      "cell_type": "code",
      "execution_count": 35,
      "id": "b11069fb",
      "metadata": {
        "colab": {
          "base_uri": "https://localhost:8080/"
        },
        "id": "b11069fb",
        "outputId": "c3394784-4b46-4194-d5d4-de73cb352b98"
      },
      "outputs": [
        {
          "output_type": "stream",
          "name": "stdout",
          "text": [
            "String written to file.\n"
          ]
        }
      ],
      "source": [
        "with open(\"example.txt\", \"w\") as f:\n",
        "    f.write(\"Hello, this is a test string!\")\n",
        "print(\"String written to file.\")"
      ]
    },
    {
      "cell_type": "markdown",
      "id": "a22b4e0d",
      "metadata": {
        "id": "a22b4e0d"
      },
      "source": [
        "### Write a Python program to read the contents of a file and print each line"
      ]
    },
    {
      "cell_type": "code",
      "execution_count": 36,
      "id": "28dfc05e",
      "metadata": {
        "colab": {
          "base_uri": "https://localhost:8080/"
        },
        "id": "28dfc05e",
        "outputId": "73546b2c-66d9-47b4-d9e9-48b52d3f05b2"
      },
      "outputs": [
        {
          "output_type": "stream",
          "name": "stdout",
          "text": [
            "Hello, this is a test string!\n"
          ]
        }
      ],
      "source": [
        "with open(\"example.txt\", \"r\") as f:\n",
        "    for line in f:\n",
        "        print(line.strip())"
      ]
    },
    {
      "cell_type": "markdown",
      "id": "e56b6a55",
      "metadata": {
        "id": "e56b6a55"
      },
      "source": [
        "### How would you handle a case where the file doesn't exist while trying to open it for reading"
      ]
    },
    {
      "cell_type": "code",
      "execution_count": 37,
      "id": "f43f1d1d",
      "metadata": {
        "colab": {
          "base_uri": "https://localhost:8080/"
        },
        "id": "f43f1d1d",
        "outputId": "03250947-8a71-4f5c-ce48-8d1bbffe79ba"
      },
      "outputs": [
        {
          "output_type": "stream",
          "name": "stdout",
          "text": [
            "File does not exist.\n"
          ]
        }
      ],
      "source": [
        "try:\n",
        "    with open(\"nofile.txt\", \"r\") as f:\n",
        "        print(f.read())\n",
        "except FileNotFoundError:\n",
        "    print(\"File does not exist.\")"
      ]
    },
    {
      "cell_type": "markdown",
      "id": "a021556e",
      "metadata": {
        "id": "a021556e"
      },
      "source": [
        "### Write a Python script that reads from one file and writes its content to another file"
      ]
    },
    {
      "cell_type": "code",
      "execution_count": 38,
      "id": "fe6f5d1d",
      "metadata": {
        "colab": {
          "base_uri": "https://localhost:8080/"
        },
        "id": "fe6f5d1d",
        "outputId": "320a60e6-581d-42e8-8d0e-9e8ac546c65d"
      },
      "outputs": [
        {
          "output_type": "stream",
          "name": "stdout",
          "text": [
            "File copied.\n"
          ]
        }
      ],
      "source": [
        "with open(\"example.txt\", \"r\") as src:\n",
        "    with open(\"copy_example.txt\", \"w\") as dest:\n",
        "        dest.write(src.read())\n",
        "print(\"File copied.\")"
      ]
    },
    {
      "cell_type": "markdown",
      "id": "08ec72c2",
      "metadata": {
        "id": "08ec72c2"
      },
      "source": [
        "### How would you catch and handle division by zero error in Python"
      ]
    },
    {
      "cell_type": "code",
      "execution_count": 39,
      "id": "2fc3a3cc",
      "metadata": {
        "colab": {
          "base_uri": "https://localhost:8080/"
        },
        "id": "2fc3a3cc",
        "outputId": "dbdee9b0-034f-43cc-f675-a66a62055b98"
      },
      "outputs": [
        {
          "output_type": "stream",
          "name": "stdout",
          "text": [
            "Division by zero is not allowed!\n"
          ]
        }
      ],
      "source": [
        "try:\n",
        "    result = 10 / 0\n",
        "except ZeroDivisionError:\n",
        "    print(\"Division by zero is not allowed!\")"
      ]
    },
    {
      "cell_type": "markdown",
      "id": "abf98153",
      "metadata": {
        "id": "abf98153"
      },
      "source": [
        "### Write a Python program that logs an error message to a log file when a division by zero exception occurs"
      ]
    },
    {
      "cell_type": "code",
      "execution_count": 40,
      "id": "2fece8dd",
      "metadata": {
        "colab": {
          "base_uri": "https://localhost:8080/"
        },
        "id": "2fece8dd",
        "outputId": "59b500fd-3e68-4167-856c-ddd09b4b2c7f"
      },
      "outputs": [
        {
          "output_type": "stream",
          "name": "stderr",
          "text": [
            "ERROR:root:Division by zero attempted!\n"
          ]
        },
        {
          "output_type": "stream",
          "name": "stdout",
          "text": [
            "Error logged.\n"
          ]
        }
      ],
      "source": [
        "import logging\n",
        "logging.basicConfig(filename=\"error.log\", level=logging.ERROR)\n",
        "try:\n",
        "    res = 10/0\n",
        "except ZeroDivisionError:\n",
        "    logging.error(\"Division by zero attempted!\")\n",
        "    print(\"Error logged.\")"
      ]
    },
    {
      "cell_type": "markdown",
      "id": "b568228e",
      "metadata": {
        "id": "b568228e"
      },
      "source": [
        "### How do you log information at different levels (INFO, ERROR, WARNING) in Python using the logging module"
      ]
    },
    {
      "cell_type": "code",
      "execution_count": 41,
      "id": "59aa511d",
      "metadata": {
        "colab": {
          "base_uri": "https://localhost:8080/"
        },
        "id": "59aa511d",
        "outputId": "5aa8c409-a063-4f78-e97b-b0c7cece4f3c"
      },
      "outputs": [
        {
          "output_type": "stream",
          "name": "stderr",
          "text": [
            "WARNING:root:This is a warning message.\n",
            "ERROR:root:This is an error message.\n"
          ]
        }
      ],
      "source": [
        "import logging\n",
        "logging.basicConfig(level=logging.DEBUG)\n",
        "logging.info(\"This is an info message.\")\n",
        "logging.warning(\"This is a warning message.\")\n",
        "logging.error(\"This is an error message.\")"
      ]
    },
    {
      "cell_type": "markdown",
      "id": "de67a51a",
      "metadata": {
        "id": "de67a51a"
      },
      "source": [
        "### Write a program to handle a file opening error using exception handling"
      ]
    },
    {
      "cell_type": "code",
      "execution_count": 42,
      "id": "cc4952fb",
      "metadata": {
        "colab": {
          "base_uri": "https://localhost:8080/"
        },
        "id": "cc4952fb",
        "outputId": "129e02e1-49fb-4ad7-a6d4-09d77de717c4"
      },
      "outputs": [
        {
          "output_type": "stream",
          "name": "stdout",
          "text": [
            "File opening error.\n"
          ]
        }
      ],
      "source": [
        "try:\n",
        "    f = open(\"unknown.txt\", \"r\")\n",
        "except IOError:\n",
        "    print(\"File opening error.\")"
      ]
    },
    {
      "cell_type": "markdown",
      "id": "8da8de30",
      "metadata": {
        "id": "8da8de30"
      },
      "source": [
        "### How can you read a file line by line and store its content in a list in Python"
      ]
    },
    {
      "cell_type": "code",
      "execution_count": 43,
      "id": "6a48a39a",
      "metadata": {
        "colab": {
          "base_uri": "https://localhost:8080/"
        },
        "id": "6a48a39a",
        "outputId": "515360d2-d836-44eb-8cc4-c29635eaae63"
      },
      "outputs": [
        {
          "output_type": "stream",
          "name": "stdout",
          "text": [
            "['Hello, this is a test string!']\n"
          ]
        }
      ],
      "source": [
        "with open(\"example.txt\", \"r\") as f:\n",
        "    lines = f.readlines()\n",
        "print(lines)"
      ]
    },
    {
      "cell_type": "markdown",
      "id": "26f142a6",
      "metadata": {
        "id": "26f142a6"
      },
      "source": [
        "### How can you append data to an existing file in Python"
      ]
    },
    {
      "cell_type": "code",
      "execution_count": 44,
      "id": "57aeaebb",
      "metadata": {
        "colab": {
          "base_uri": "https://localhost:8080/"
        },
        "id": "57aeaebb",
        "outputId": "460b7a33-449f-4f7a-d462-58663b47fbe5"
      },
      "outputs": [
        {
          "output_type": "stream",
          "name": "stdout",
          "text": [
            "Data appended.\n"
          ]
        }
      ],
      "source": [
        "with open(\"example.txt\", \"a\") as f:\n",
        "    f.write(\"\\nAppended line!\")\n",
        "print(\"Data appended.\")"
      ]
    },
    {
      "cell_type": "markdown",
      "id": "facb3974",
      "metadata": {
        "id": "facb3974"
      },
      "source": [
        "### Write a Python program that uses a try-except block to handle an error when attempting to access a dictionary key that doesn't exist"
      ]
    },
    {
      "cell_type": "code",
      "execution_count": 45,
      "id": "19730bda",
      "metadata": {
        "colab": {
          "base_uri": "https://localhost:8080/"
        },
        "id": "19730bda",
        "outputId": "6b57c81a-aa93-4364-9f01-c8e0d85ca849"
      },
      "outputs": [
        {
          "output_type": "stream",
          "name": "stdout",
          "text": [
            "Key not found in dictionary.\n"
          ]
        }
      ],
      "source": [
        "data = {\"a\":1, \"b\":2}\n",
        "try:\n",
        "    print(data[\"c\"])\n",
        "except KeyError:\n",
        "    print(\"Key not found in dictionary.\")"
      ]
    },
    {
      "cell_type": "markdown",
      "id": "99d11e5d",
      "metadata": {
        "id": "99d11e5d"
      },
      "source": [
        "### Write a program that demonstrates using multiple except blocks to handle different types of exceptions"
      ]
    },
    {
      "cell_type": "code",
      "execution_count": 46,
      "id": "2d897791",
      "metadata": {
        "colab": {
          "base_uri": "https://localhost:8080/"
        },
        "id": "2d897791",
        "outputId": "5dfc09e0-dfd0-4ad5-d59f-0e44d6a4b421"
      },
      "outputs": [
        {
          "output_type": "stream",
          "name": "stdout",
          "text": [
            "Invalid conversion!\n"
          ]
        }
      ],
      "source": [
        "try:\n",
        "    x = int(\"abc\")\n",
        "    y = 10/0\n",
        "except ValueError:\n",
        "    print(\"Invalid conversion!\")\n",
        "except ZeroDivisionError:\n",
        "    print(\"Division by zero!\")"
      ]
    },
    {
      "cell_type": "markdown",
      "id": "29ef6c9f",
      "metadata": {
        "id": "29ef6c9f"
      },
      "source": [
        "### How would you check if a file exists before attempting to read it in Python"
      ]
    },
    {
      "cell_type": "code",
      "execution_count": 47,
      "id": "c36e98da",
      "metadata": {
        "colab": {
          "base_uri": "https://localhost:8080/"
        },
        "id": "c36e98da",
        "outputId": "64fde8e8-80ca-4d90-8edf-1493443778e7"
      },
      "outputs": [
        {
          "output_type": "stream",
          "name": "stdout",
          "text": [
            "Hello, this is a test string!\n",
            "Appended line!\n"
          ]
        }
      ],
      "source": [
        "import os\n",
        "if os.path.exists(\"example.txt\"):\n",
        "    with open(\"example.txt\") as f:\n",
        "        print(f.read())\n",
        "else:\n",
        "    print(\"File not found.\")"
      ]
    },
    {
      "cell_type": "markdown",
      "id": "58c0ca36",
      "metadata": {
        "id": "58c0ca36"
      },
      "source": [
        "### Write a program that uses the logging module to log both informational and error messages"
      ]
    },
    {
      "cell_type": "code",
      "execution_count": 48,
      "id": "00ddf737",
      "metadata": {
        "colab": {
          "base_uri": "https://localhost:8080/"
        },
        "id": "00ddf737",
        "outputId": "4b139c2a-d68f-4824-c6bb-8c070d95f4f8"
      },
      "outputs": [
        {
          "output_type": "stream",
          "name": "stderr",
          "text": [
            "ERROR:root:Division by zero!\n"
          ]
        }
      ],
      "source": [
        "import logging\n",
        "logging.basicConfig(filename=\"app.log\", level=logging.DEBUG)\n",
        "logging.info(\"Program started\")\n",
        "try:\n",
        "    1/0\n",
        "except ZeroDivisionError:\n",
        "    logging.error(\"Division by zero!\")\n",
        "logging.info(\"Program ended\")"
      ]
    },
    {
      "cell_type": "markdown",
      "id": "24430192",
      "metadata": {
        "id": "24430192"
      },
      "source": [
        "### Write a Python program that prints the content of a file and handles the case when the file is empty"
      ]
    },
    {
      "cell_type": "code",
      "execution_count": 49,
      "id": "be82aba0",
      "metadata": {
        "colab": {
          "base_uri": "https://localhost:8080/"
        },
        "id": "be82aba0",
        "outputId": "02096582-fe08-48a4-be3f-12e6cc74520f"
      },
      "outputs": [
        {
          "output_type": "stream",
          "name": "stdout",
          "text": [
            "Hello, this is a test string!\n",
            "Appended line!\n"
          ]
        }
      ],
      "source": [
        "with open(\"example.txt\", \"r\") as f:\n",
        "    content = f.read()\n",
        "    if not content:\n",
        "        print(\"File is empty.\")\n",
        "    else:\n",
        "        print(content)"
      ]
    },
    {
      "cell_type": "markdown",
      "id": "e6a8b563",
      "metadata": {
        "id": "e6a8b563"
      },
      "source": [
        "### Demonstrate how to use memory profiling to check the memory usage of a small program"
      ]
    },
    {
      "cell_type": "code",
      "execution_count": 50,
      "id": "83441c35",
      "metadata": {
        "id": "83441c35"
      },
      "outputs": [],
      "source": [
        "# from memory_profiler import profile\n",
        "# @profile\n",
        "# def demo():\n",
        "#     a = [i for i in range(10000)]\n",
        "#     return sum(a)\n",
        "# demo()"
      ]
    },
    {
      "cell_type": "markdown",
      "id": "00ca7d9c",
      "metadata": {
        "id": "00ca7d9c"
      },
      "source": [
        "### Write a Python program to create and write a list of numbers to a file, one number per line"
      ]
    },
    {
      "cell_type": "code",
      "execution_count": 51,
      "id": "9c3bbe0e",
      "metadata": {
        "colab": {
          "base_uri": "https://localhost:8080/"
        },
        "id": "9c3bbe0e",
        "outputId": "96ec4abf-5c61-462d-bc27-6f292b5c0dd1"
      },
      "outputs": [
        {
          "output_type": "stream",
          "name": "stdout",
          "text": [
            "Numbers written.\n"
          ]
        }
      ],
      "source": [
        "nums = [1,2,3,4,5]\n",
        "with open(\"numbers.txt\", \"w\") as f:\n",
        "    for n in nums:\n",
        "        f.write(str(n)+\"\\n\")\n",
        "print(\"Numbers written.\")"
      ]
    },
    {
      "cell_type": "markdown",
      "id": "0318dbc6",
      "metadata": {
        "id": "0318dbc6"
      },
      "source": [
        "### How would you implement a basic logging setup that logs to a file with rotation after 1MB"
      ]
    },
    {
      "cell_type": "code",
      "execution_count": 52,
      "id": "ae466c28",
      "metadata": {
        "colab": {
          "base_uri": "https://localhost:8080/"
        },
        "id": "ae466c28",
        "outputId": "f2f5d2db-ea46-42f2-8946-453f64418448"
      },
      "outputs": [
        {
          "output_type": "stream",
          "name": "stderr",
          "text": [
            "INFO:mylogger:This is a rotating log.\n"
          ]
        }
      ],
      "source": [
        "import logging\n",
        "from logging.handlers import RotatingFileHandler\n",
        "handler = RotatingFileHandler(\"rotate.log\", maxBytes=1*1024*1024, backupCount=2)\n",
        "logger = logging.getLogger(\"mylogger\")\n",
        "logger.setLevel(logging.INFO)\n",
        "logger.addHandler(handler)\n",
        "logger.info(\"This is a rotating log.\")"
      ]
    },
    {
      "cell_type": "markdown",
      "id": "ca518018",
      "metadata": {
        "id": "ca518018"
      },
      "source": [
        "### Write a program that handles both IndexError and KeyError using a try-except block"
      ]
    },
    {
      "cell_type": "code",
      "execution_count": 53,
      "id": "2f70b4d4",
      "metadata": {
        "colab": {
          "base_uri": "https://localhost:8080/"
        },
        "id": "2f70b4d4",
        "outputId": "7da8fa42-86f7-4fb7-be39-86563cd8d9a7"
      },
      "outputs": [
        {
          "output_type": "stream",
          "name": "stdout",
          "text": [
            "Index out of range!\n"
          ]
        }
      ],
      "source": [
        "try:\n",
        "    l=[1,2]\n",
        "    print(l[5])\n",
        "    d={\"a\":1}\n",
        "    print(d[\"b\"])\n",
        "except IndexError:\n",
        "    print(\"Index out of range!\")\n",
        "except KeyError:\n",
        "    print(\"Key not found!\")"
      ]
    },
    {
      "cell_type": "markdown",
      "id": "8755b666",
      "metadata": {
        "id": "8755b666"
      },
      "source": [
        "### How would you open a file and read its contents using a context manager in Python"
      ]
    },
    {
      "cell_type": "code",
      "execution_count": 54,
      "id": "68389588",
      "metadata": {
        "colab": {
          "base_uri": "https://localhost:8080/"
        },
        "id": "68389588",
        "outputId": "1b073d64-94ff-4ed9-a437-90d71e9abbdf"
      },
      "outputs": [
        {
          "output_type": "stream",
          "name": "stdout",
          "text": [
            "Hello, this is a test string!\n",
            "Appended line!\n"
          ]
        }
      ],
      "source": [
        "with open(\"example.txt\", \"r\") as f:\n",
        "    print(f.read())"
      ]
    },
    {
      "cell_type": "markdown",
      "id": "a243e489",
      "metadata": {
        "id": "a243e489"
      },
      "source": [
        "### Write a Python program that reads a file and prints the number of occurrences of a specific word"
      ]
    },
    {
      "cell_type": "code",
      "execution_count": 55,
      "id": "7815efcd",
      "metadata": {
        "colab": {
          "base_uri": "https://localhost:8080/"
        },
        "id": "7815efcd",
        "outputId": "c4105d96-f83e-46f9-fd16-049f7493dba2"
      },
      "outputs": [
        {
          "output_type": "stream",
          "name": "stdout",
          "text": [
            "Occurrences of 'test': 1\n"
          ]
        }
      ],
      "source": [
        "word=\"test\"\n",
        "with open(\"example.txt\", \"r\") as f:\n",
        "    text=f.read()\n",
        "print(f\"Occurrences of '{word}':\", text.count(word))"
      ]
    },
    {
      "cell_type": "markdown",
      "id": "24cc3460",
      "metadata": {
        "id": "24cc3460"
      },
      "source": [
        "### How can you check if a file is empty before attempting to read its contents"
      ]
    },
    {
      "cell_type": "code",
      "execution_count": 56,
      "id": "85b5d115",
      "metadata": {
        "colab": {
          "base_uri": "https://localhost:8080/"
        },
        "id": "85b5d115",
        "outputId": "39b2b51b-9ddb-4f1a-a3bf-8d548e1bd9bf"
      },
      "outputs": [
        {
          "output_type": "stream",
          "name": "stdout",
          "text": [
            "Hello, this is a test string!\n",
            "Appended line!\n"
          ]
        }
      ],
      "source": [
        "import os\n",
        "if os.stat(\"example.txt\").st_size==0:\n",
        "    print(\"File is empty\")\n",
        "else:\n",
        "    with open(\"example.txt\") as f:\n",
        "        print(f.read())"
      ]
    },
    {
      "cell_type": "markdown",
      "id": "9d2828de",
      "metadata": {
        "id": "9d2828de"
      },
      "source": [
        "### Write a Python program that writes to a log file when an error occurs during file handling"
      ]
    },
    {
      "cell_type": "code",
      "execution_count": 57,
      "id": "0117c6f6",
      "metadata": {
        "colab": {
          "base_uri": "https://localhost:8080/"
        },
        "id": "0117c6f6",
        "outputId": "2eeb121d-e879-4259-f68c-13fd3a66ae6a"
      },
      "outputs": [
        {
          "output_type": "stream",
          "name": "stderr",
          "text": [
            "ERROR:root:File error: [Errno 2] No such file or directory: 'nofile.txt'\n"
          ]
        },
        {
          "output_type": "stream",
          "name": "stdout",
          "text": [
            "Error logged\n"
          ]
        }
      ],
      "source": [
        "import logging\n",
        "logging.basicConfig(filename=\"file_errors.log\", level=logging.ERROR)\n",
        "try:\n",
        "    with open(\"nofile.txt\") as f:\n",
        "        print(f.read())\n",
        "except Exception as e:\n",
        "    logging.error(\"File error: %s\", e)\n",
        "    print(\"Error logged\")"
      ]
    }
  ],
  "metadata": {
    "colab": {
      "provenance": [],
      "include_colab_link": true
    },
    "language_info": {
      "name": "python"
    },
    "kernelspec": {
      "name": "python3",
      "display_name": "Python 3"
    }
  },
  "nbformat": 4,
  "nbformat_minor": 5
}