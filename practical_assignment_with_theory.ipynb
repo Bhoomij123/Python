{
 "cells": [
  {
   "cell_type": "markdown",
   "id": "4ff638b9",
   "metadata": {},
   "source": [
    "\n",
    "# **Assignment 2 – Data Types and Structures Theory**\n",
    "\n",
    "### 1. What are data structures, and why are they important?\n",
    "Data structures are organized ways of storing and managing data so that it can be used efficiently. They define the format and organization of data in memory, making it easier to perform operations like searching, sorting, inserting, and deleting. Examples include lists, tuples, dictionaries, sets, stacks, and queues. They are important because they help in writing optimized code, improving performance, and managing complex data efficiently.\n",
    "\n",
    "### 2. Explain the difference between mutable and immutable data types with examples.\n",
    "- **Mutable data types** can be changed after creation. Examples: `list`, `dict`, `set`.  \n",
    "  ```python\n",
    "  my_list = [1, 2, 3]\n",
    "  my_list[0] = 10  # Modifies the original list\n",
    "  ```\n",
    "- **Immutable data types** cannot be modified once created. Examples: `tuple`, `str`, `int`.  \n",
    "  ```python\n",
    "  my_str = \"Hello\"\n",
    "  # my_str[0] = \"h\"  # This will cause an error\n",
    "  ```\n",
    "\n",
    "### 3. What are the main differences between lists and tuples in Python?\n",
    "- **Lists** are mutable, meaning elements can be changed, added, or removed.\n",
    "- **Tuples** are immutable, meaning once created, their content cannot be changed.\n",
    "- Lists use more memory than tuples because of their mutability.\n",
    "\n",
    "### 4. Describe how dictionaries store data.\n",
    "Dictionaries store data in **key-value pairs** using a **hash table**. Keys are unique, immutable objects, and each key maps to a value. This structure allows **O(1)** average-time complexity for lookups.\n",
    "\n",
    "### 5. Why might you use a set instead of a list in Python?\n",
    "Sets are unordered collections of unique elements. They are useful when:\n",
    "- You need to remove duplicates automatically.\n",
    "- You need fast membership testing (`in` keyword is faster in sets than lists).\n",
    "\n",
    "### 6. What is a string in Python, and how is it different from a list?\n",
    "A string is an immutable sequence of characters. A list is a mutable sequence of elements (which can be of different types). Strings cannot be changed after creation, while lists can.\n",
    "\n",
    "### 7. How do tuples ensure data integrity in Python?\n",
    "Tuples are immutable, meaning their values cannot be modified after creation. This makes them ideal for storing fixed collections of data that should not change.\n",
    "\n",
    "### 8. What is a hash table, and how does it relate to dictionaries in Python?\n",
    "A hash table is a data structure that stores data in an array format, indexed by a computed hash value. Python dictionaries use hash tables internally to store key-value pairs efficiently.\n",
    "\n",
    "### 9. Can lists contain different data types in Python?\n",
    "Yes, Python lists can store elements of mixed data types, including integers, strings, floats, and even other lists.\n",
    "\n",
    "### 10. Explain why strings are immutable in Python.\n",
    "Strings are immutable to improve performance and security, especially since strings are widely used as keys in dictionaries. Immutability ensures hash values remain constant.\n",
    "\n",
    "### 11. What advantages do dictionaries offer over lists for certain tasks?\n",
    "Dictionaries provide **O(1)** average-time complexity for lookups, compared to **O(n)** for lists. They are better when you need fast access to data via a key.\n",
    "\n",
    "### 12. How do sets handle duplicate values in Python?\n",
    "Sets automatically remove duplicates when elements are inserted.\n",
    "\n",
    "### 13. Describe a scenario where using a tuple would be preferable over a list.\n",
    "When you need to store fixed configuration data that should not change, such as coordinates `(x, y)` or days of the week.\n",
    "\n",
    "### 14. How does the “in” keyword work differently for lists and dictionaries?\n",
    "- In **lists**, `in` checks whether a value exists in the list elements.\n",
    "- In **dictionaries**, `in` checks whether a given key exists, not the value.\n",
    "\n",
    "### 15. Can you modify the elements of a tuple? Explain why or why not.\n",
    "No, tuples are immutable. Once created, their elements cannot be changed. This is why they are used for data integrity.\n",
    "\n",
    "### 16. What is a nested dictionary, and give an example of its use case.\n",
    "A nested dictionary is a dictionary inside another dictionary. Example:\n",
    "```python\n",
    "student = {\n",
    "    \"name\": \"Alice\",\n",
    "    \"marks\": {\"math\": 90, \"science\": 85}\n",
    "}\n",
    "```\n",
    "Useful for storing structured data like JSON.\n",
    "\n",
    "### 17. Describe the time complexity of accessing elements in a dictionary.\n",
    "Accessing elements in a dictionary has an **average time complexity of O(1)** due to the underlying hash table structure.\n",
    "\n",
    "### 18. In what situations are lists preferred over dictionaries?\n",
    "Lists are preferred when order matters, when you have a small number of elements, or when data does not require key-based access.\n",
    "\n",
    "### 19. Why are dictionaries considered unordered, and how does that affect data retrieval?\n",
    "Before Python 3.7, dictionaries did not maintain insertion order. Even now, order is preserved but should not be relied upon for algorithms requiring strict ordering.\n",
    "\n",
    "### 20. Explain the difference between a list and a dictionary in terms of data retrieval.\n",
    "- **List:** Access by index position (integer).\n",
    "- **Dictionary:** Access by key, offering faster lookups in most cases.\n"
   ]
  },
  {
   "cell_type": "markdown",
   "metadata": {},
   "source": [
    "# Assignment - Practical Questions\n",
    "This notebook contains solutions to the given practical Python questions."
   ]
  },
  {
   "cell_type": "markdown",
   "metadata": {},
   "source": [
    "**Q: Write a code to create a string with your name and print it**"
   ]
  },
  {
   "cell_type": "code",
   "execution_count": null,
   "metadata": {},
   "outputs": [],
   "source": [
    "name = \"John Doe\"\n",
    "print(name)"
   ]
  },
  {
   "cell_type": "markdown",
   "metadata": {},
   "source": [
    "**Q: Write a code to find the length of the string \"Hello World\"**"
   ]
  },
  {
   "cell_type": "code",
   "execution_count": null,
   "metadata": {},
   "outputs": [],
   "source": [
    "text = \"Hello World\"\n",
    "print(len(text))"
   ]
  },
  {
   "cell_type": "markdown",
   "metadata": {},
   "source": [
    "**Q: Write a code to slice the first 3 characters from the string \"Python Programming\"**"
   ]
  },
  {
   "cell_type": "code",
   "execution_count": null,
   "metadata": {},
   "outputs": [],
   "source": [
    "text = \"Python Programming\"\n",
    "print(text[:3])"
   ]
  },
  {
   "cell_type": "markdown",
   "metadata": {},
   "source": [
    "**Q: Write a code to convert the string \"hello\" to uppercase**"
   ]
  },
  {
   "cell_type": "code",
   "execution_count": null,
   "metadata": {},
   "outputs": [],
   "source": [
    "text = \"hello\"\n",
    "print(text.upper())"
   ]
  },
  {
   "cell_type": "markdown",
   "metadata": {},
   "source": [
    "**Q: Write a code to replace the word \"apple\" with \"orange\" in the string \"I like apple\"**"
   ]
  },
  {
   "cell_type": "code",
   "execution_count": null,
   "metadata": {},
   "outputs": [],
   "source": [
    "text = \"I like apple\"\n",
    "print(text.replace(\"apple\", \"orange\"))"
   ]
  },
  {
   "cell_type": "markdown",
   "metadata": {},
   "source": [
    "**Q: Write a code to create a list with numbers 1 to 5 and print it**"
   ]
  },
  {
   "cell_type": "code",
   "execution_count": null,
   "metadata": {},
   "outputs": [],
   "source": [
    "numbers = [1, 2, 3, 4, 5]\n",
    "print(numbers)"
   ]
  },
  {
   "cell_type": "markdown",
   "metadata": {},
   "source": [
    "**Q: Write a code to append the number 10 to the list [1, 2, 3, 4]**"
   ]
  },
  {
   "cell_type": "code",
   "execution_count": null,
   "metadata": {},
   "outputs": [],
   "source": [
    "numbers = [1, 2, 3, 4]\n",
    "numbers.append(10)\n",
    "print(numbers)"
   ]
  },
  {
   "cell_type": "markdown",
   "metadata": {},
   "source": [
    "**Q: Write a code to remove the number 3 from the list [1, 2, 3, 4, 5]**"
   ]
  },
  {
   "cell_type": "code",
   "execution_count": null,
   "metadata": {},
   "outputs": [],
   "source": [
    "numbers = [1, 2, 3, 4, 5]\n",
    "numbers.remove(3)\n",
    "print(numbers)"
   ]
  },
  {
   "cell_type": "markdown",
   "metadata": {},
   "source": [
    "**Q: Write a code to access the second element in the list ['a', 'b', 'c', 'd']**"
   ]
  },
  {
   "cell_type": "code",
   "execution_count": null,
   "metadata": {},
   "outputs": [],
   "source": [
    "letters = ['a', 'b', 'c', 'd']\n",
    "print(letters[1])"
   ]
  },
  {
   "cell_type": "markdown",
   "metadata": {},
   "source": [
    "**Q: Write a code to reverse the list [10, 20, 30, 40, 50]**"
   ]
  },
  {
   "cell_type": "code",
   "execution_count": null,
   "metadata": {},
   "outputs": [],
   "source": [
    "numbers = [10, 20, 30, 40, 50]\n",
    "numbers.reverse()\n",
    "print(numbers)"
   ]
  },
  {
   "cell_type": "markdown",
   "metadata": {},
   "source": [
    "**Q: Write a code to create a tuple with the elements 100, 200, 300 and print it**"
   ]
  },
  {
   "cell_type": "code",
   "execution_count": null,
   "metadata": {},
   "outputs": [],
   "source": [
    "t = (100, 200, 300)\n",
    "print(t)"
   ]
  },
  {
   "cell_type": "markdown",
   "metadata": {},
   "source": [
    "**Q: Write a code to access the second-to-last element of the tuple ('red', 'green', 'blue', 'yellow')**"
   ]
  },
  {
   "cell_type": "code",
   "execution_count": null,
   "metadata": {},
   "outputs": [],
   "source": [
    "colors = ('red', 'green', 'blue', 'yellow')\n",
    "print(colors[-2])"
   ]
  },
  {
   "cell_type": "markdown",
   "metadata": {},
   "source": [
    "**Q: Write a code to find the minimum number in the tuple (10, 20, 5, 15)**"
   ]
  },
  {
   "cell_type": "code",
   "execution_count": null,
   "metadata": {},
   "outputs": [],
   "source": [
    "t = (10, 20, 5, 15)\n",
    "print(min(t))"
   ]
  },
  {
   "cell_type": "markdown",
   "metadata": {},
   "source": [
    "**Q: Write a code to find the index of the element \"cat\" in the tuple ('dog', 'cat', 'rabbit')**"
   ]
  },
  {
   "cell_type": "code",
   "execution_count": null,
   "metadata": {},
   "outputs": [],
   "source": [
    "animals = ('dog', 'cat', 'rabbit')\n",
    "print(animals.index(\"cat\"))"
   ]
  },
  {
   "cell_type": "markdown",
   "metadata": {},
   "source": [
    "**Q: Write a code to create a tuple containing three different fruits and check if \"kiwi\" is in it**"
   ]
  },
  {
   "cell_type": "code",
   "execution_count": null,
   "metadata": {},
   "outputs": [],
   "source": [
    "fruits = (\"apple\", \"banana\", \"cherry\")\n",
    "print(\"kiwi\" in fruits)"
   ]
  },
  {
   "cell_type": "markdown",
   "metadata": {},
   "source": [
    "**Q: Write a code to create a set with the elements 'a', 'b', 'c' and print it**"
   ]
  },
  {
   "cell_type": "code",
   "execution_count": null,
   "metadata": {},
   "outputs": [],
   "source": [
    "s = {'a', 'b', 'c'}\n",
    "print(s)"
   ]
  },
  {
   "cell_type": "markdown",
   "metadata": {},
   "source": [
    "**Q: Write a code to clear all elements from the set {1, 2, 3, 4, 5}**"
   ]
  },
  {
   "cell_type": "code",
   "execution_count": null,
   "metadata": {},
   "outputs": [],
   "source": [
    "s = {1, 2, 3, 4, 5}\n",
    "s.clear()\n",
    "print(s)"
   ]
  },
  {
   "cell_type": "markdown",
   "metadata": {},
   "source": [
    "**Q: Write a code to remove the element 4 from the set {1, 2, 3, 4}**"
   ]
  },
  {
   "cell_type": "code",
   "execution_count": null,
   "metadata": {},
   "outputs": [],
   "source": [
    "s = {1, 2, 3, 4}\n",
    "s.remove(4)\n",
    "print(s)"
   ]
  },
  {
   "cell_type": "markdown",
   "metadata": {},
   "source": [
    "**Q: Write a code to find the union of two sets {1, 2, 3} and {3, 4, 5}**"
   ]
  },
  {
   "cell_type": "code",
   "execution_count": null,
   "metadata": {},
   "outputs": [],
   "source": [
    "s1 = {1, 2, 3}\n",
    "s2 = {3, 4, 5}\n",
    "print(s1.union(s2))"
   ]
  },
  {
   "cell_type": "markdown",
   "metadata": {},
   "source": [
    "**Q: Write a code to find the intersection of two sets {1, 2, 3} and {2, 3, 4}**"
   ]
  },
  {
   "cell_type": "code",
   "execution_count": null,
   "metadata": {},
   "outputs": [],
   "source": [
    "s1 = {1, 2, 3}\n",
    "s2 = {2, 3, 4}\n",
    "print(s1.intersection(s2))"
   ]
  },
  {
   "cell_type": "markdown",
   "metadata": {},
   "source": [
    "**Q: Write a code to create a dictionary with the keys \"name\", \"age\", and \"city\", and print it**"
   ]
  },
  {
   "cell_type": "code",
   "execution_count": null,
   "metadata": {},
   "outputs": [],
   "source": [
    "person = {\"name\": \"Alice\", \"age\": 25, \"city\": \"New York\"}\n",
    "print(person)"
   ]
  },
  {
   "cell_type": "markdown",
   "metadata": {},
   "source": [
    "**Q: Write a code to add a new key-value pair \"country\": \"USA\" to the dictionary {'name': 'John', 'age': 25}**"
   ]
  },
  {
   "cell_type": "code",
   "execution_count": null,
   "metadata": {},
   "outputs": [],
   "source": [
    "person = {\"name\": \"John\", \"age\": 25}\n",
    "person[\"country\"] = \"USA\"\n",
    "print(person)"
   ]
  },
  {
   "cell_type": "markdown",
   "metadata": {},
   "source": [
    "**Q: Write a code to access the value associated with the key \"name\" in the dictionary {'name': 'Alice', 'age': 30}**"
   ]
  },
  {
   "cell_type": "code",
   "execution_count": null,
   "metadata": {},
   "outputs": [],
   "source": [
    "person = {\"name\": \"Alice\", \"age\": 30}\n",
    "print(person[\"name\"])"
   ]
  },
  {
   "cell_type": "markdown",
   "metadata": {},
   "source": [
    "**Q: Write a code to remove the key \"age\" from the dictionary {'name': 'Bob', 'age': 22, 'city': 'New York'}**"
   ]
  },
  {
   "cell_type": "code",
   "execution_count": null,
   "metadata": {},
   "outputs": [],
   "source": [
    "person = {\"name\": \"Bob\", \"age\": 22, \"city\": \"New York\"}\n",
    "del person[\"age\"]\n",
    "print(person)"
   ]
  },
  {
   "cell_type": "markdown",
   "metadata": {},
   "source": [
    "**Q: Write a code to check if the key \"city\" exists in the dictionary {'name': 'Alice', 'city': 'Paris'}**"
   ]
  },
  {
   "cell_type": "code",
   "execution_count": null,
   "metadata": {},
   "outputs": [],
   "source": [
    "person = {\"name\": \"Alice\", \"city\": \"Paris\"}\n",
    "print(\"city\" in person)"
   ]
  },
  {
   "cell_type": "markdown",
   "metadata": {},
   "source": [
    "**Q: Write a code to create a list, a tuple, and a dictionary, and print them all**"
   ]
  },
  {
   "cell_type": "code",
   "execution_count": null,
   "metadata": {},
   "outputs": [],
   "source": [
    "my_list = [1, 2, 3]\n",
    "my_tuple = (4, 5, 6)\n",
    "my_dict = {\"a\": 1, \"b\": 2}\n",
    "print(my_list, my_tuple, my_dict)"
   ]
  },
  {
   "cell_type": "markdown",
   "metadata": {},
   "source": [
    "**Q: Write a code to create a list of 5 random numbers between 1 and 100, sort it in ascending order, and print the result**"
   ]
  },
  {
   "cell_type": "code",
   "execution_count": null,
   "metadata": {},
   "outputs": [],
   "source": [
    "import random\n",
    "numbers = random.sample(range(1, 101), 5)\n",
    "numbers.sort()\n",
    "print(numbers)"
   ]
  },
  {
   "cell_type": "markdown",
   "metadata": {},
   "source": [
    "**Q: Write a code to create a list with strings and print the element at the third index**"
   ]
  },
  {
   "cell_type": "code",
   "execution_count": null,
   "metadata": {},
   "outputs": [],
   "source": [
    "words = [\"apple\", \"banana\", \"cherry\", \"date\", \"fig\"]\n",
    "print(words[3])"
   ]
  },
  {
   "cell_type": "markdown",
   "metadata": {},
   "source": [
    "**Q: Write a code to combine two dictionaries into one and print the result**"
   ]
  },
  {
   "cell_type": "code",
   "execution_count": null,
   "metadata": {},
   "outputs": [],
   "source": [
    "dict1 = {\"a\": 1, \"b\": 2}\n",
    "dict2 = {\"c\": 3, \"d\": 4}\n",
    "combined = {**dict1, **dict2}\n",
    "print(combined)"
   ]
  },
  {
   "cell_type": "markdown",
   "metadata": {},
   "source": [
    "**Q: Write a code to convert a list of strings into a set**"
   ]
  },
  {
   "cell_type": "code",
   "execution_count": null,
   "metadata": {},
   "outputs": [],
   "source": [
    "words = [\"apple\", \"banana\", \"apple\"]\n",
    "word_set = set(words)\n",
    "print(word_set)"
   ]
  }
 ],
 "metadata": {
  "kernelspec": {
   "display_name": "Python 3",
   "language": "python",
   "name": "python3"
  },
  "language_info": {
   "name": "python",
   "version": "3.x"
  }
 },
 "nbformat": 4,
 "nbformat_minor": 5
}