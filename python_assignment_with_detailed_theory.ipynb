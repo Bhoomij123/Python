{
 "cells": [
  {
   "cell_type": "markdown",
   "id": "7caf4e79",
   "metadata": {},
   "source": [
    "\n",
    "# Python Basics Theory Questions – Detailed Answers\n",
    "\n",
    "1. **What is Python, and why is it popular?**  \n",
    "   Python is a high-level, interpreted programming language developed by Guido van Rossum and first released in 1991. It is designed to be highly readable, using simple and clean syntax that resembles everyday English. Python is popular because it is beginner-friendly yet powerful for professional applications. It supports multiple programming paradigms such as procedural, object-oriented, and functional programming. Its popularity also stems from its vast collection of libraries and frameworks like NumPy, Pandas, Django, Flask, and TensorFlow, which allow developers to work in diverse fields such as web development, data analysis, artificial intelligence, automation, and more. Furthermore, Python’s large community ensures plenty of learning resources, tutorials, and active support.\n",
    "\n",
    "2. **What is an interpreter in Python?**  \n",
    "   An interpreter is a program that reads and executes Python code line-by-line instead of compiling the entire program into machine code beforehand. When you run a Python script, the interpreter converts the Python instructions into bytecode, which is then executed by the Python Virtual Machine (PVM). This execution model allows for easy testing and debugging since code can be run interactively, but it generally makes execution slower than compiled languages like C++. Python uses interpreters such as CPython (default), PyPy, and Jython.\n",
    "\n",
    "3. **What are pre-defined keywords in Python?**  \n",
    "   Pre-defined keywords in Python are reserved words that have special meaning within the language and cannot be used for naming variables, functions, or identifiers. They form the core structure of Python’s syntax and help define the rules for writing programs. Examples include `if`, `else`, `while`, `for`, `class`, `import`, and `try`. These keywords are case-sensitive, meaning `True` is valid but `true` is not recognized as a keyword. You can view the list of keywords using the `keyword` module in Python.\n",
    "\n",
    "4. **Can keywords be used as variable names?**  \n",
    "   No, keywords cannot be used as variable names in Python because they are reserved for specific syntactic purposes. For example, if you try to assign a value to `if` (e.g., `if = 5`), Python will throw a syntax error. This restriction helps avoid ambiguity in program interpretation and ensures that code remains readable and unambiguous.\n",
    "\n",
    "5. **What is mutability in Python?**  \n",
    "   Mutability refers to the ability of an object to be modified after its creation. If an object’s contents (elements, values, or attributes) can be changed without creating a new object in memory, it is considered mutable. In Python, lists, dictionaries, and sets are mutable, while integers, floats, strings, and tuples are immutable.\n",
    "\n",
    "6. **Why are lists mutable, but tuples are immutable?**  \n",
    "   Lists are mutable because they are designed for data that might change frequently, such as adding, removing, or modifying elements. Internally, lists store references to objects, and their structure can be modified without creating a new list object. Tuples, on the other hand, are immutable, meaning once they are created, their contents cannot be changed. This immutability ensures data integrity, allows tuples to be used as dictionary keys, and can improve performance since the interpreter can optimize storage and operations.\n",
    "\n",
    "7. **What is the difference between `==` and `is` operators in Python?**  \n",
    "   - `==` (Equality operator): Checks if the values of two objects are equal, regardless of whether they are stored in the same memory location.  \n",
    "   - `is` (Identity operator): Checks if two variables refer to the exact same object in memory.  \n",
    "   For example:  \n",
    "   ```python\n",
    "   a = [1, 2, 3]\n",
    "   b = [1, 2, 3]\n",
    "   print(a == b)  # True, because values match\n",
    "   print(a is b)  # False, because they are different objects in memory\n",
    "   ```\n",
    "\n",
    "8. **What are logical operators in Python?**  \n",
    "   Logical operators are used to combine multiple conditional expressions and return a Boolean result:  \n",
    "   - `and` → Returns True if both conditions are True.  \n",
    "   - `or` → Returns True if at least one condition is True.  \n",
    "   - `not` → Returns the opposite Boolean value.  \n",
    "   Example:  \n",
    "   ```python\n",
    "   x = 5\n",
    "   print(x > 2 and x < 10)  # True\n",
    "   print(x > 10 or x == 5)  # True\n",
    "   print(not (x > 2))       # False\n",
    "   ```\n",
    "\n",
    "9. **What is type casting in Python?**  \n",
    "   Type casting is the process of converting one data type into another. Python supports type casting using built-in functions like `int()`, `float()`, `str()`, and `bool()`. This is often required when combining different types of data or taking user input (which is always a string by default) and converting it to integers or floats for mathematical operations.\n",
    "\n",
    "10. **What is the difference between implicit and explicit type casting?**  \n",
    "    - **Implicit type casting** (type conversion) is performed automatically by Python when it promotes a smaller data type to a larger one to prevent data loss. For example, adding an integer and a float results in a float.  \n",
    "    - **Explicit type casting** is when the programmer manually converts a data type using functions like `int()`, `float()`, or `str()`.  \n",
    "    Example:  \n",
    "    ```python\n",
    "    # Implicit\n",
    "    result = 5 + 3.2  # Automatically becomes float (8.2)\n",
    "    # Explicit\n",
    "    num = int(\"10\")   # Converts string to integer\n",
    "    ```\n",
    "\n",
    "11. **What is the purpose of conditional statements in Python?**  \n",
    "    Conditional statements allow a program to execute certain blocks of code only when specific conditions are met. They enable decision-making in programs, which is crucial for controlling program flow. Without conditional statements, programs would run sequentially without any logical branching.\n",
    "\n",
    "12. **How does the `elif` statement work?**  \n",
    "    The `elif` statement (short for \"else if\") allows checking multiple conditions in sequence. If the first `if` condition is False, the program checks the `elif` condition. If it is True, that block runs, and the rest are skipped. This is more efficient and readable than writing multiple `if` statements.\n",
    "\n",
    "13. **What is the difference between for and while loops?**  \n",
    "    - **for loop**: Used when the number of iterations is known beforehand or when iterating over a sequence like a list, tuple, or string.  \n",
    "    - **while loop**: Used when the number of iterations is unknown and depends on a condition being True.\n",
    "\n",
    "14. **Describe a scenario where a while loop is more suitable than a for loop.**  \n",
    "    A while loop is better when the exact number of iterations is not predetermined. For example, repeatedly asking a user to enter a password until they get it right:\n",
    "    ```python\n",
    "    password = \"\"\n",
    "    while password != \"admin123\":\n",
    "        password = input(\"Enter password: \")\n",
    "    print(\"Access granted!\")\n",
    "    ```\n"
   ]
  },
  {
   "cell_type": "code",
   "execution_count": null,
   "id": "80706a9f",
   "metadata": {},
   "outputs": [],
   "source": [
    "# Q1: Write a Python program to print \"Hello, World!\"\n",
    "print(\"Hello, World!\")"
   ]
  },
  {
   "cell_type": "code",
   "execution_count": null,
   "id": "726bf0ca",
   "metadata": {},
   "outputs": [],
   "source": [
    "# Q2: Write a Python program that displays your name and age\n",
    "name = \"Bhumma\"\n",
    "age = 20\n",
    "print(\"Name:\", name)\n",
    "print(\"Age:\", age)"
   ]
  },
  {
   "cell_type": "code",
   "execution_count": null,
   "id": "f31d0366",
   "metadata": {},
   "outputs": [],
   "source": [
    "# Q3: Write code to print all the pre-defined keywords in Python using the keyword library\n",
    "import keyword\n",
    "print(keyword.kwlist)"
   ]
  },
  {
   "cell_type": "code",
   "execution_count": null,
   "id": "a81c754d",
   "metadata": {},
   "outputs": [],
   "source": [
    "# Q4: Write a program that checks if a given word is a Python keyword.\n",
    "import keyword\n",
    "word = input(\"Enter a word: \")\n",
    "if keyword.iskeyword(word):\n",
    "    print(f\"{word} is a Python keyword.\")\n",
    "else:\n",
    "    print(f\"{word} is not a Python keyword.\")"
   ]
  },
  {
   "cell_type": "code",
   "execution_count": null,
   "id": "50504bfa",
   "metadata": {},
   "outputs": [],
   "source": [
    "# Q5: Create a list and tuple in Python, and demonstrate how attempting to change an element works differently for each.\n",
    "my_list = [1, 2, 3]\n",
    "my_tuple = (1, 2, 3)\n",
    "my_list[0] = 10\n",
    "print(\"Modified List:\", my_list)\n",
    "try:\n",
    "    my_tuple[0] = 10\n",
    "except TypeError as e:\n",
    "    print(\"Error modifying tuple:\", e)"
   ]
  },
  {
   "cell_type": "code",
   "execution_count": null,
   "id": "69fa10f2",
   "metadata": {},
   "outputs": [],
   "source": [
    "# Q6: Write a function to demonstrate the behavior of mutable and immutable arguments.\n",
    "def modify_list(lst):\n",
    "    lst.append(100)\n",
    "\n",
    "def modify_number(num):\n",
    "    num += 10\n",
    "\n",
    "my_list = [1, 2, 3]\n",
    "my_number = 5\n",
    "\n",
    "modify_list(my_list)\n",
    "modify_number(my_number)\n",
    "print(\"List after modification:\", my_list)\n",
    "print(\"Number after modification:\", my_number)"
   ]
  },
  {
   "cell_type": "code",
   "execution_count": null,
   "id": "0f6e54eb",
   "metadata": {},
   "outputs": [],
   "source": [
    "# Q7: Write a program that performs basic arithmetic operations on two user-input numbers.\n",
    "a = float(input(\"Enter first number: \"))\n",
    "b = float(input(\"Enter second number: \"))\n",
    "print(\"Addition:\", a+b)\n",
    "print(\"Subtraction:\", a-b)\n",
    "print(\"Multiplication:\", a*b)\n",
    "if b != 0:\n",
    "    print(\"Division:\", a/b)\n",
    "else:\n",
    "    print(\"Division: Cannot divide by zero\")"
   ]
  },
  {
   "cell_type": "code",
   "execution_count": null,
   "id": "aae6a904",
   "metadata": {},
   "outputs": [],
   "source": [
    "# Q8: Write a program to demonstrate the use of logical operators.\n",
    "a = True\n",
    "b = False\n",
    "print(\"a and b:\", a and b)\n",
    "print(\"a or b:\", a or b)\n",
    "print(\"not a:\", not a)"
   ]
  },
  {
   "cell_type": "code",
   "execution_count": null,
   "id": "7935f5d4",
   "metadata": {},
   "outputs": [],
   "source": [
    "# Q9: Write a Python program to convert user input from string to integer, float, and boolean types.\n",
    "value = input(\"Enter something: \")\n",
    "try:\n",
    "    print(\"Integer:\", int(value))\n",
    "except ValueError:\n",
    "    print(\"Cannot convert to integer\")\n",
    "try:\n",
    "    print(\"Float:\", float(value))\n",
    "except ValueError:\n",
    "    print(\"Cannot convert to float\")\n",
    "print(\"Boolean:\", bool(value))"
   ]
  },
  {
   "cell_type": "code",
   "execution_count": null,
   "id": "4c62d996",
   "metadata": {},
   "outputs": [],
   "source": [
    "# Q10: Write code to demonstrate type casting with list elements.\n",
    "my_list = [\"1\", \"2\", \"3\"]\n",
    "int_list = list(map(int, my_list))\n",
    "print(\"Original list:\", my_list)\n",
    "print(\"Integer list:\", int_list)"
   ]
  },
  {
   "cell_type": "code",
   "execution_count": null,
   "id": "7d401e72",
   "metadata": {},
   "outputs": [],
   "source": [
    "# Q11: Write a program that checks if a number is positive, negative, or zero.\n",
    "num = float(input(\"Enter a number: \"))\n",
    "if num > 0:\n",
    "    print(\"Positive\")\n",
    "elif num < 0:\n",
    "    print(\"Negative\")\n",
    "else:\n",
    "    print(\"Zero\")"
   ]
  },
  {
   "cell_type": "code",
   "execution_count": null,
   "id": "13e6f2bf",
   "metadata": {},
   "outputs": [],
   "source": [
    "# Q12: Write a for loop to print numbers from 1 to 10.\n",
    "for i in range(1, 11):\n",
    "    print(i)"
   ]
  },
  {
   "cell_type": "code",
   "execution_count": null,
   "id": "6787c066",
   "metadata": {},
   "outputs": [],
   "source": [
    "# Q13: Write a Python program to find the sum of all even numbers between 1 and 50.\n",
    "total = 0\n",
    "for i in range(1, 51):\n",
    "    if i % 2 == 0:\n",
    "        total += i\n",
    "print(\"Sum of even numbers between 1 and 50:\", total)"
   ]
  },
  {
   "cell_type": "code",
   "execution_count": null,
   "id": "8a08bd0e",
   "metadata": {},
   "outputs": [],
   "source": [
    "# Q14: Write a program to reverse a string using a while loop.\n",
    "s = input(\"Enter a string: \")\n",
    "reversed_s = \"\"\n",
    "i = len(s) - 1\n",
    "while i >= 0:\n",
    "    reversed_s += s[i]\n",
    "    i -= 1\n",
    "print(\"Reversed string:\", reversed_s)"
   ]
  },
  {
   "cell_type": "code",
   "execution_count": null,
   "id": "03eb1ec3",
   "metadata": {},
   "outputs": [],
   "source": [
    "# Q15: Write a Python program to calculate the factorial of a number provided by the user using a while loop.\n",
    "num = int(input(\"Enter a number: \"))\n",
    "factorial = 1\n",
    "i = 1\n",
    "while i <= num:\n",
    "    factorial *= i\n",
    "    i += 1\n",
    "print(\"Factorial:\", factorial)"
   ]
  }
 ],
 "metadata": {},
 "nbformat": 4,
 "nbformat_minor": 5
}
